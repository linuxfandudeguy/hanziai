{
  "nbformat": 4,
  "nbformat_minor": 0,
  "metadata": {
    "colab": {
      "provenance": [],
      "authorship_tag": "ABX9TyPjwvPbboAuffh5w91sD3XP",
      "include_colab_link": true
    },
    "kernelspec": {
      "name": "python3",
      "display_name": "Python 3"
    },
    "language_info": {
      "name": "python"
    }
  },
  "cells": [
    {
      "cell_type": "markdown",
      "metadata": {
        "id": "view-in-github",
        "colab_type": "text"
      },
      "source": [
        "<a href=\"https://colab.research.google.com/github/linuxfandudeguy/hanziai/blob/master/hanziai.ipynb\" target=\"_parent\"><img src=\"https://colab.research.google.com/assets/colab-badge.svg\" alt=\"Open In Colab\"/></a>"
      ]
    },
    {
      "cell_type": "code",
      "execution_count": 1,
      "metadata": {
        "colab": {
          "base_uri": "https://localhost:8080/"
        },
        "id": "we1Rtl5jogDY",
        "outputId": "630de546-aa36-4e97-f976-d6372d5319aa"
      },
      "outputs": [
        {
          "output_type": "stream",
          "name": "stdout",
          "text": [
            "Cloning into 'hanziai'...\n",
            "remote: Enumerating objects: 149, done.\u001b[K\n",
            "remote: Counting objects: 100% (149/149), done.\u001b[K\n",
            "remote: Compressing objects: 100% (147/147), done.\u001b[K\n",
            "remote: Total 149 (delta 86), reused 9 (delta 1), pack-reused 0 (from 0)\u001b[K\n",
            "Receiving objects: 100% (149/149), 5.43 MiB | 7.28 MiB/s, done.\n",
            "Resolving deltas: 100% (86/86), done.\n"
          ]
        }
      ],
      "source": [
        "!git clone https://github.com/linuxfandudeguy/hanziai"
      ]
    },
    {
      "cell_type": "code",
      "source": [
        "!ls hanziai/"
      ],
      "metadata": {
        "colab": {
          "base_uri": "https://localhost:8080/"
        },
        "id": "f9ItRLLforvf",
        "outputId": "c7077515-cb62-4971-c208-e8045d956691"
      },
      "execution_count": 3,
      "outputs": [
        {
          "output_type": "stream",
          "name": "stdout",
          "text": [
            "ai.py\t\t freq.py\t  licence\t      punc.py\n",
            "first_words.png  hanziai_pos.mar  pos_structures.txt  README.md\n"
          ]
        }
      ]
    },
    {
      "cell_type": "code",
      "source": [
        "!python3 hanziai/ai.py"
      ],
      "metadata": {
        "colab": {
          "base_uri": "https://localhost:8080/"
        },
        "id": "Xg65CcMnow14",
        "outputId": "d33a430b-e999-46f8-9d22-ebc887c6d6fa"
      },
      "execution_count": 12,
      "outputs": [
        {
          "output_type": "stream",
          "name": "stdout",
          "text": [
            "2025-07-02 15:01:11,929 - DEBUG - Loading data from hanziai/hanziai_pos.mar\n",
            "2025-07-02 15:01:12,037 - DEBUG - Total entries loaded: 119624\n",
            "2025-07-02 15:01:12,039 - DEBUG - Sampled 3000 word-POS pairs for training\n",
            "2025-07-02 15:01:12,045 - DEBUG - Loading structures from hanziai/pos_structures.txt\n",
            "2025-07-02 15:01:12,045 - DEBUG - Loaded 51 POS structures\n",
            "2025-07-02 15:01:12,045 - DEBUG - Created new Markov Chain model\n",
            "2025-07-02 15:01:12,045 - DEBUG - Updating Markov Chain...\n",
            "2025-07-02 15:01:12,047 - DEBUG - Markov chain now has 2997 states\n",
            "2025-07-02 15:01:12,049 - DEBUG - Saved Markov Chain model to hanziai/markov_model.pkl\n",
            "2025-07-02 15:01:12,049 - DEBUG - Generating sentence of length 4 with POS pattern ['n', 'v', 'p', 'n']\n",
            "2025-07-02 15:01:12,050 - WARNING - No starting sequence matches the POS pattern start; picking random.\n",
            "POS structure: n v p n\n",
            "Generated sentence with punctuation: 生抽生命体征生动甜食！\n"
          ]
        }
      ]
    },
    {
      "cell_type": "code",
      "source": [],
      "metadata": {
        "id": "LfhITcDMo3fT"
      },
      "execution_count": null,
      "outputs": []
    }
  ]
}