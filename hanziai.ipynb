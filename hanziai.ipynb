{
  "nbformat": 4,
  "nbformat_minor": 0,
  "metadata": {
    "colab": {
      "provenance": []
    },
    "kernelspec": {
      "name": "python3",
      "display_name": "Python 3"
    },
    "language_info": {
      "name": "python"
    }
  },
  "cells": [
    {
      "cell_type": "code",
      "execution_count": 2,
      "metadata": {
        "colab": {
          "base_uri": "https://localhost:8080/"
        },
        "id": "we1Rtl5jogDY",
        "outputId": "576827d3-a0e4-40f1-c5e6-9b1c2136afbe"
      },
      "outputs": [
        {
          "output_type": "stream",
          "name": "stdout",
          "text": [
            "Cloning into 'hanziai'...\n",
            "remote: Enumerating objects: 254, done.\u001b[K\n",
            "remote: Counting objects: 100% (84/84), done.\u001b[K\n",
            "remote: Compressing objects: 100% (75/75), done.\u001b[K\n",
            "remote: Total 254 (delta 36), reused 0 (delta 0), pack-reused 170 (from 1)\u001b[K\n",
            "Receiving objects: 100% (254/254), 5.48 MiB | 10.67 MiB/s, done.\n",
            "Resolving deltas: 100% (134/134), done.\n"
          ]
        }
      ],
      "source": [
        "!git clone https://github.com/linuxfandudeguy/hanziai"
      ]
    },
    {
      "cell_type": "code",
      "source": [
        "!ls hanziai/"
      ],
      "metadata": {
        "colab": {
          "base_uri": "https://localhost:8080/"
        },
        "id": "f9ItRLLforvf",
        "outputId": "506a7e7b-0348-4c70-81cc-343b685c5a13"
      },
      "execution_count": null,
      "outputs": [
        {
          "output_type": "stream",
          "name": "stdout",
          "text": [
            " ai.py\t\t   hanziai_pos.mar      README.md\n",
            " first_words.png   licence\t       'Screenshot 2025-07-02 113642.png'\n",
            " freq.py\t   pos_structures.txt\n",
            " hanziai.ipynb\t   punc.py\n"
          ]
        }
      ]
    },
    {
      "cell_type": "code",
      "source": [
        "!python3 hanziai/ai.py"
      ],
      "metadata": {
        "colab": {
          "base_uri": "https://localhost:8080/"
        },
        "id": "Xg65CcMnow14",
        "outputId": "ba60c940-1262-4bb8-8870-50290025f4bc"
      },
      "execution_count": 1,
      "outputs": [
        {
          "output_type": "stream",
          "name": "stdout",
          "text": [
            "python3: can't open file '/content/hanziai/ai.py': [Errno 2] No such file or directory\n"
          ]
        }
      ]
    },
    {
      "cell_type": "code",
      "source": [],
      "metadata": {
        "id": "LfhITcDMo3fT"
      },
      "execution_count": null,
      "outputs": []
    }
  ]
}