{
  "nbformat": 4,
  "nbformat_minor": 0,
  "metadata": {
    "colab": {
      "provenance": [],
      "include_colab_link": true
    },
    "kernelspec": {
      "name": "python3",
      "display_name": "Python 3"
    },
    "language_info": {
      "name": "python"
    }
  },
  "cells": [
    {
      "cell_type": "markdown",
      "metadata": {
        "id": "view-in-github",
        "colab_type": "text"
      },
      "source": [
        "<a href=\"https://colab.research.google.com/github/linuxfandudeguy/hanziai/blob/master/hanziai.ipynb\" target=\"_parent\"><img src=\"https://colab.research.google.com/assets/colab-badge.svg\" alt=\"Open In Colab\"/></a>"
      ]
    },
    {
      "cell_type": "code",
      "execution_count": null,
      "metadata": {
        "colab": {
          "base_uri": "https://localhost:8080/"
        },
        "id": "we1Rtl5jogDY",
        "outputId": "576827d3-a0e4-40f1-c5e6-9b1c2136afbe"
      },
      "outputs": [
        {
          "output_type": "stream",
          "name": "stdout",
          "text": [
            "Cloning into 'hanziai'...\n",
            "remote: Enumerating objects: 254, done.\u001b[K\n",
            "remote: Counting objects: 100% (84/84), done.\u001b[K\n",
            "remote: Compressing objects: 100% (75/75), done.\u001b[K\n",
            "remote: Total 254 (delta 36), reused 0 (delta 0), pack-reused 170 (from 1)\u001b[K\n",
            "Receiving objects: 100% (254/254), 5.48 MiB | 10.67 MiB/s, done.\n",
            "Resolving deltas: 100% (134/134), done.\n"
          ]
        }
      ],
      "source": [
        "!git clone https://github.com/linuxfandudeguy/hanziai"
      ]
    },
    {
      "cell_type": "code",
      "source": [
        "!ls hanziai/"
      ],
      "metadata": {
        "colab": {
          "base_uri": "https://localhost:8080/"
        },
        "id": "f9ItRLLforvf",
        "outputId": "506a7e7b-0348-4c70-81cc-343b685c5a13"
      },
      "execution_count": null,
      "outputs": [
        {
          "output_type": "stream",
          "name": "stdout",
          "text": [
            " ai.py\t\t   hanziai_pos.mar      README.md\n",
            " first_words.png   licence\t       'Screenshot 2025-07-02 113642.png'\n",
            " freq.py\t   pos_structures.txt\n",
            " hanziai.ipynb\t   punc.py\n"
          ]
        }
      ]
    },
    {
      "cell_type": "code",
      "source": [
        "!python3 hanziai/ai.py"
      ],
      "metadata": {
        "colab": {
          "base_uri": "https://localhost:8080/"
        },
        "id": "Xg65CcMnow14",
        "outputId": "c026d9ce-905a-43db-a7e4-5a41507be9ed"
      },
      "execution_count": 5,
      "outputs": [
        {
          "output_type": "stream",
          "name": "stdout",
          "text": [
            "2025-07-03 18:56:29,751 - DEBUG - Loading data from hanziai/hanziai_pos.mar\n",
            "2025-07-03 18:56:29,843 - DEBUG - Total entries loaded: 119624\n",
            "2025-07-03 18:56:29,845 - DEBUG - Sampled 3000 word-POS pairs for training\n",
            "2025-07-03 18:56:29,851 - DEBUG - Loading structures from hanziai/pos_structures.txt\n",
            "2025-07-03 18:56:29,851 - DEBUG - Loaded 51 POS structures\n",
            "2025-07-03 18:56:29,852 - DEBUG - Loaded existing Markov Chain model\n",
            "2025-07-03 18:56:29,852 - DEBUG - Updating Markov Chain...\n",
            "2025-07-03 18:56:29,854 - DEBUG - Markov chain now has 5994 states\n",
            "2025-07-03 18:56:29,857 - DEBUG - Saved Markov Chain model to hanziai/markov_model.pkl\n",
            "2025-07-03 18:56:29,858 - DEBUG - Generating sentence of length 5 with POS pattern ['n', 'd', 'v', 'q', 'n']\n",
            "POS structure: n d v q n\n",
            "Generated sentence with punctuation: 伪君子偷偷侧重。\n"
          ]
        }
      ]
    },
    {
      "cell_type": "code",
      "source": [],
      "metadata": {
        "id": "LfhITcDMo3fT"
      },
      "execution_count": null,
      "outputs": []
    }
  ]
}