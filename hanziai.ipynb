{
  "nbformat": 4,
  "nbformat_minor": 0,
  "metadata": {
    "colab": {
      "provenance": [],
      "authorship_tag": "ABX9TyPjwvPbboAuffh5w91sD3XP",
      "include_colab_link": true
    },
    "kernelspec": {
      "name": "python3",
      "display_name": "Python 3"
    },
    "language_info": {
      "name": "python"
    }
  },
  "cells": [
    {
      "cell_type": "markdown",
      "metadata": {
        "id": "view-in-github",
        "colab_type": "text"
      },
      "source": [
        "<a href=\"https://colab.research.google.com/github/linuxfandudeguy/hanziai/blob/master/hanziai.ipynb\" target=\"_parent\"><img src=\"https://colab.research.google.com/assets/colab-badge.svg\" alt=\"Open In Colab\"/></a>"
      ]
    },
    {
      "cell_type": "code",
      "execution_count": 2,
      "metadata": {
        "colab": {
          "base_uri": "https://localhost:8080/"
        },
        "id": "we1Rtl5jogDY",
        "outputId": "331872a3-bda9-40a6-a4f8-629c739f6e0d"
      },
      "outputs": [
        {
          "output_type": "stream",
          "name": "stdout",
          "text": [
            "Cloning into 'hanziai'...\n",
            "remote: Enumerating objects: 251, done.\u001b[K\n",
            "remote: Counting objects: 100% (81/81), done.\u001b[K\n",
            "remote: Compressing objects: 100% (72/72), done.\u001b[K\n",
            "remote: Total 251 (delta 35), reused 0 (delta 0), pack-reused 170 (from 1)\u001b[K\n",
            "Receiving objects: 100% (251/251), 5.48 MiB | 13.72 MiB/s, done.\n",
            "Resolving deltas: 100% (133/133), done.\n"
          ]
        }
      ],
      "source": [
        "!git clone https://github.com/linuxfandudeguy/hanziai"
      ]
    },
    {
      "cell_type": "code",
      "source": [
        "!ls hanziai/"
      ],
      "metadata": {
        "colab": {
          "base_uri": "https://localhost:8080/"
        },
        "id": "f9ItRLLforvf",
        "outputId": "506a7e7b-0348-4c70-81cc-343b685c5a13"
      },
      "execution_count": 3,
      "outputs": [
        {
          "output_type": "stream",
          "name": "stdout",
          "text": [
            " ai.py\t\t   hanziai_pos.mar      README.md\n",
            " first_words.png   licence\t       'Screenshot 2025-07-02 113642.png'\n",
            " freq.py\t   pos_structures.txt\n",
            " hanziai.ipynb\t   punc.py\n"
          ]
        }
      ]
    },
    {
      "cell_type": "code",
      "source": [
        "!python3 hanziai/ai.py"
      ],
      "metadata": {
        "colab": {
          "base_uri": "https://localhost:8080/"
        },
        "id": "Xg65CcMnow14",
        "outputId": "7daff7fc-8540-44e6-f43f-090e239c2158"
      },
      "execution_count": 6,
      "outputs": [
        {
          "output_type": "stream",
          "name": "stdout",
          "text": [
            "2025-07-02 20:07:31,448 - DEBUG - Loading data from hanziai/hanziai_pos.mar\n",
            "2025-07-02 20:07:31,609 - DEBUG - Total entries loaded: 119624\n",
            "2025-07-02 20:07:31,612 - DEBUG - Sampled 3000 word-POS pairs for training\n",
            "2025-07-02 20:07:31,622 - DEBUG - Loading structures from hanziai/pos_structures.txt\n",
            "2025-07-02 20:07:31,622 - DEBUG - Loaded 51 POS structures\n",
            "2025-07-02 20:07:31,622 - DEBUG - Created new Markov Chain model\n",
            "2025-07-02 20:07:31,622 - DEBUG - Updating Markov Chain...\n",
            "2025-07-02 20:07:31,625 - DEBUG - Markov chain now has 2997 states\n",
            "2025-07-02 20:07:31,628 - DEBUG - Saved Markov Chain model to hanziai/markov_model.pkl\n",
            "2025-07-02 20:07:31,629 - DEBUG - Generating sentence of length 4 with POS pattern ['n', 'p', 'n', 'v']\n",
            "POS structure: n p n v\n",
            "Generated sentence with punctuation: 牌子爸比争臣！\n"
          ]
        }
      ]
    },
    {
      "cell_type": "code",
      "source": [],
      "metadata": {
        "id": "LfhITcDMo3fT"
      },
      "execution_count": null,
      "outputs": []
    }
  ]
}